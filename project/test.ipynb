{
 "cells": [
  {
   "cell_type": "code",
   "execution_count": 21,
   "metadata": {},
   "outputs": [
    {
     "name": "stdout",
     "output_type": "stream",
     "text": [
      "Log file: logs\\imdb\\log_SynBA2022_imdb.csv\n"
     ]
    }
   ],
   "source": [
    "from pprint import pprint\n",
    "from pyparsing import col\n",
    "import transformers\n",
    "from transformers import pipeline\n",
    "\n",
    "from textattack.attack_recipes import SynBA2022, BAEGarg2019, TextFoolerJin2019\n",
    "from textattack.datasets import Dataset\n",
    "from textattack.datasets import HuggingFaceDataset\n",
    "from textattack.models.wrappers import HuggingFaceModelWrapper\n",
    "from textattack import Attacker\n",
    "from textattack import AttackArgs\n",
    "\n",
    "from textattack.metrics.attack_metrics import (\n",
    "    AttackQueries,\n",
    "    AttackSuccessRate,\n",
    "    WordsPerturbed,\n",
    "    AttackTimer,\n",
    "    AttackMRR\n",
    ")\n",
    "from textattack.metrics.quality_metrics import ( \n",
    "    Perplexity, \n",
    "    SBERTMetric,\n",
    "    ContradictionMetric\n",
    ")\n",
    "\n",
    "import os\n",
    "import pandas as pd\n",
    "import tensorflow as tf\n",
    "import torch\n",
    "import gc\n",
    "import pickle\n",
    "from pprint import pprint\n",
    "dataset_name = \"imdb\"\n",
    "attack_class = SynBA2022\n",
    "\n",
    "log_file_name = os.path.join(\"logs\", dataset_name, f\"log_{attack_class.__name__}_{dataset_name}.csv\")\n",
    "print(f\"Log file: {log_file_name}\")"
   ]
  },
  {
   "cell_type": "code",
   "execution_count": 22,
   "metadata": {},
   "outputs": [],
   "source": [
    "\n",
    "# read attack results from file using pickle\n",
    "attack_results = pickle.load(open(os.path.join(\"logs\", dataset_name, f\"attack_results_{attack_class.__name__}_{dataset_name}.pkl\"), \"rb\"))\n"
   ]
  },
  {
   "cell_type": "code",
   "execution_count": 23,
   "metadata": {},
   "outputs": [],
   "source": [
    "import numpy as np\n",
    "text_size = np.array([len(attack_results[i].original_result.attacked_text.words) for i in range(len(attack_results))])"
   ]
  },
  {
   "cell_type": "code",
   "execution_count": 16,
   "metadata": {},
   "outputs": [
    {
     "name": "stdout",
     "output_type": "stream",
     "text": [
      "Average text size: 18.644 (8.603909808918269)\n"
     ]
    }
   ],
   "source": [
    "print(f\"Average text size: {np.mean(text_size)} ({np.std(text_size)})\")"
   ]
  },
  {
   "cell_type": "code",
   "execution_count": 24,
   "metadata": {},
   "outputs": [
    {
     "name": "stdout",
     "output_type": "stream",
     "text": [
      "Average text size: 229.208 (162.55646014846658)\n"
     ]
    }
   ],
   "source": [
    "print(f\"Average text size: {np.mean(text_size)} ({np.std(text_size)})\")"
   ]
  },
  {
   "cell_type": "markdown",
   "metadata": {},
   "source": [
    "#### LateX\n"
   ]
  },
  {
   "cell_type": "code",
   "execution_count": 40,
   "metadata": {},
   "outputs": [
    {
     "name": "stdout",
     "output_type": "stream",
     "text": [
      "{'WordEmbeddingDistance': 0.0002, 'PartOfSpeech': 0.0057, 'UniversalSentenceEncoder': 0.0058}\n",
      "{'PartOfSpeech': 0.0111, 'UniversalSentenceEncoder': 0.0084}\n",
      "{'PartOfSpeech': 0.0069, 'WordEmbeddingDistance': 0.0001, 'BERT': 0.0156}\n"
     ]
    },
    {
     "data": {
      "text/plain": [
       "TextFoolerJin2019    None\n",
       "BAEGarg2019          None\n",
       "SynBA2022            None\n",
       "Name: avg_constraints_time, dtype: object"
      ]
     },
     "execution_count": 40,
     "metadata": {},
     "output_type": "execute_result"
    }
   ],
   "source": [
    "dataset_name = \"rotten_tomatoes\"\n",
    "log_file_name = os.path.join(\"logs\", dataset_name, f\"stats_{dataset_name}.csv\")\n",
    "\n",
    "columns=['successful_attacks', 'failed_attacks', 'skipped_attacks', 'original_accuracy', \n",
    "        'attack_accuracy_perc', 'attack_success_rate', 'avg_word_perturbed_perc', \n",
    "        'avg_attack_time', 'avg_word_ranking_time', \n",
    "        'avg_transformation_time','avg_constraints_time',\n",
    "        'avg_num_queries', 'avg_batch_query_time',\n",
    "        'avg_original_perplexity', \n",
    "        'avg_attack_perplexity', \n",
    "        'avg_sentence_bert_similarity', \n",
    "        'attack_contradiction_rate']\n",
    "\n",
    "stats = pd.read_csv(log_file_name, index_col=0)\n",
    "stats = stats[columns]\n",
    "stats['avg_constraints_time'].apply(print)\n",
    "#print(stats.T.to_latex(index=True))"
   ]
  }
 ],
 "metadata": {
  "kernelspec": {
   "display_name": "Python 3.8.13 ('3rdplace')",
   "language": "python",
   "name": "python3"
  },
  "language_info": {
   "codemirror_mode": {
    "name": "ipython",
    "version": 3
   },
   "file_extension": ".py",
   "mimetype": "text/x-python",
   "name": "python",
   "nbconvert_exporter": "python",
   "pygments_lexer": "ipython3",
   "version": "3.8.13"
  },
  "orig_nbformat": 4,
  "vscode": {
   "interpreter": {
    "hash": "74395c6fa573f9609fbdb613d31c3b5e5bf3bb88cc4a59c4ca3c6b11483c6e9b"
   }
  }
 },
 "nbformat": 4,
 "nbformat_minor": 2
}
